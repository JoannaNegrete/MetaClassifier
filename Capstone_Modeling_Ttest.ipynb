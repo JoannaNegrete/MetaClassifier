{
 "cells": [
  {
   "cell_type": "markdown",
   "id": "bb753a3a-55fb-4df2-ab58-7350fbbce31c",
   "metadata": {},
   "source": [
    "# Libraries"
   ]
  },
  {
   "cell_type": "code",
   "execution_count": 1,
   "id": "665c399b-1284-4fb7-bc6e-ebd60a30a7b4",
   "metadata": {},
   "outputs": [],
   "source": [
    "import math\n",
    "import joblib\n",
    "import numpy as np\n",
    "import pandas as pd\n",
    "import matplotlib.pyplot as plt\n",
    "%matplotlib inline\n",
    "\n",
    "import sklearn\n",
    "from sklearn.metrics import accuracy_score, roc_auc_score, roc_curve, f1_score, precision_score, recall_score, mean_squared_error, r2_score\n",
    "from sklearn.metrics import confusion_matrix, ConfusionMatrixDisplay\n",
    "from sklearn.model_selection import cross_val_score\n",
    "from sklearn.svm import SVC\n",
    "from sklearn.ensemble import ExtraTreesClassifier\n",
    "from sklearn.linear_model import RidgeClassifier\n",
    "from sklearn.ensemble import BaggingClassifier\n",
    "from sklearn.tree import DecisionTreeClassifier\n",
    "from sklearn.naive_bayes import GaussianNB\n",
    "from sklearn.ensemble import RandomForestClassifier, GradientBoostingClassifier, StackingClassifier\n",
    "from sklearn.linear_model import LogisticRegression\n",
    "from sklearn.neighbors import KNeighborsClassifier\n",
    "from sklearn.model_selection import train_test_split\n",
    "from sklearn.ensemble import AdaBoostClassifier, GradientBoostingClassifier\n",
    "from mlxtend.classifier import EnsembleVoteClassifier\n",
    "from xgboost import XGBClassifier\n",
    "from sklearn.model_selection import cross_validate\n",
    "\n",
    "\n",
    "from mlxtend.plotting import plot_decision_regions\n",
    "import matplotlib.gridspec as gridspec\n",
    "import itertools"
   ]
  },
  {
   "cell_type": "code",
   "execution_count": 2,
   "id": "c71e3ae3-ec45-4287-848a-75e1741e231e",
   "metadata": {},
   "outputs": [],
   "source": [
    "import warnings\n",
    "warnings.filterwarnings('ignore')"
   ]
  },
  {
   "cell_type": "markdown",
   "id": "b8cc1596-1f23-42e6-b910-f364df4a2ebb",
   "metadata": {},
   "source": [
    "# Read in data"
   ]
  },
  {
   "cell_type": "code",
   "execution_count": 3,
   "id": "266d08fa-b05c-4dc2-9dfa-ca45047e0d56",
   "metadata": {},
   "outputs": [
    {
     "data": {
      "text/html": [
       "<div>\n",
       "<style scoped>\n",
       "    .dataframe tbody tr th:only-of-type {\n",
       "        vertical-align: middle;\n",
       "    }\n",
       "\n",
       "    .dataframe tbody tr th {\n",
       "        vertical-align: top;\n",
       "    }\n",
       "\n",
       "    .dataframe thead th {\n",
       "        text-align: right;\n",
       "    }\n",
       "</style>\n",
       "<table border=\"1\" class=\"dataframe\">\n",
       "  <thead>\n",
       "    <tr style=\"text-align: right;\">\n",
       "      <th></th>\n",
       "      <th>qty_dot_url</th>\n",
       "      <th>qty_hyphen_url</th>\n",
       "      <th>qty_underline_url</th>\n",
       "      <th>qty_slash_url</th>\n",
       "      <th>qty_questionmark_url</th>\n",
       "      <th>qty_equal_url</th>\n",
       "      <th>qty_at_url</th>\n",
       "      <th>qty_and_url</th>\n",
       "      <th>qty_exclamation_url</th>\n",
       "      <th>qty_space_url</th>\n",
       "      <th>...</th>\n",
       "      <th>qty_ip_resolved</th>\n",
       "      <th>qty_nameservers</th>\n",
       "      <th>qty_mx_servers</th>\n",
       "      <th>ttl_hostname</th>\n",
       "      <th>tls_ssl_certificate</th>\n",
       "      <th>qty_redirects</th>\n",
       "      <th>url_google_index</th>\n",
       "      <th>domain_google_index</th>\n",
       "      <th>url_shortened</th>\n",
       "      <th>phishing</th>\n",
       "    </tr>\n",
       "  </thead>\n",
       "  <tbody>\n",
       "    <tr>\n",
       "      <th>0</th>\n",
       "      <td>3</td>\n",
       "      <td>0</td>\n",
       "      <td>0</td>\n",
       "      <td>1</td>\n",
       "      <td>0</td>\n",
       "      <td>0</td>\n",
       "      <td>0</td>\n",
       "      <td>0</td>\n",
       "      <td>0</td>\n",
       "      <td>0</td>\n",
       "      <td>...</td>\n",
       "      <td>1</td>\n",
       "      <td>2</td>\n",
       "      <td>0</td>\n",
       "      <td>892</td>\n",
       "      <td>0</td>\n",
       "      <td>0</td>\n",
       "      <td>0</td>\n",
       "      <td>0</td>\n",
       "      <td>0</td>\n",
       "      <td>1</td>\n",
       "    </tr>\n",
       "    <tr>\n",
       "      <th>1</th>\n",
       "      <td>5</td>\n",
       "      <td>0</td>\n",
       "      <td>1</td>\n",
       "      <td>3</td>\n",
       "      <td>0</td>\n",
       "      <td>3</td>\n",
       "      <td>0</td>\n",
       "      <td>2</td>\n",
       "      <td>0</td>\n",
       "      <td>0</td>\n",
       "      <td>...</td>\n",
       "      <td>1</td>\n",
       "      <td>2</td>\n",
       "      <td>1</td>\n",
       "      <td>9540</td>\n",
       "      <td>1</td>\n",
       "      <td>0</td>\n",
       "      <td>0</td>\n",
       "      <td>0</td>\n",
       "      <td>0</td>\n",
       "      <td>1</td>\n",
       "    </tr>\n",
       "    <tr>\n",
       "      <th>2</th>\n",
       "      <td>2</td>\n",
       "      <td>0</td>\n",
       "      <td>0</td>\n",
       "      <td>1</td>\n",
       "      <td>0</td>\n",
       "      <td>0</td>\n",
       "      <td>0</td>\n",
       "      <td>0</td>\n",
       "      <td>0</td>\n",
       "      <td>0</td>\n",
       "      <td>...</td>\n",
       "      <td>1</td>\n",
       "      <td>2</td>\n",
       "      <td>3</td>\n",
       "      <td>589</td>\n",
       "      <td>1</td>\n",
       "      <td>0</td>\n",
       "      <td>0</td>\n",
       "      <td>0</td>\n",
       "      <td>0</td>\n",
       "      <td>0</td>\n",
       "    </tr>\n",
       "    <tr>\n",
       "      <th>3</th>\n",
       "      <td>4</td>\n",
       "      <td>0</td>\n",
       "      <td>2</td>\n",
       "      <td>5</td>\n",
       "      <td>0</td>\n",
       "      <td>0</td>\n",
       "      <td>0</td>\n",
       "      <td>0</td>\n",
       "      <td>0</td>\n",
       "      <td>0</td>\n",
       "      <td>...</td>\n",
       "      <td>1</td>\n",
       "      <td>2</td>\n",
       "      <td>0</td>\n",
       "      <td>292</td>\n",
       "      <td>1</td>\n",
       "      <td>0</td>\n",
       "      <td>0</td>\n",
       "      <td>0</td>\n",
       "      <td>0</td>\n",
       "      <td>1</td>\n",
       "    </tr>\n",
       "    <tr>\n",
       "      <th>4</th>\n",
       "      <td>2</td>\n",
       "      <td>0</td>\n",
       "      <td>0</td>\n",
       "      <td>0</td>\n",
       "      <td>0</td>\n",
       "      <td>0</td>\n",
       "      <td>0</td>\n",
       "      <td>0</td>\n",
       "      <td>0</td>\n",
       "      <td>0</td>\n",
       "      <td>...</td>\n",
       "      <td>1</td>\n",
       "      <td>2</td>\n",
       "      <td>1</td>\n",
       "      <td>3597</td>\n",
       "      <td>0</td>\n",
       "      <td>1</td>\n",
       "      <td>0</td>\n",
       "      <td>0</td>\n",
       "      <td>0</td>\n",
       "      <td>0</td>\n",
       "    </tr>\n",
       "  </tbody>\n",
       "</table>\n",
       "<p>5 rows × 92 columns</p>\n",
       "</div>"
      ],
      "text/plain": [
       "   qty_dot_url  qty_hyphen_url  qty_underline_url  qty_slash_url  \\\n",
       "0            3               0                  0              1   \n",
       "1            5               0                  1              3   \n",
       "2            2               0                  0              1   \n",
       "3            4               0                  2              5   \n",
       "4            2               0                  0              0   \n",
       "\n",
       "   qty_questionmark_url  qty_equal_url  qty_at_url  qty_and_url  \\\n",
       "0                     0              0           0            0   \n",
       "1                     0              3           0            2   \n",
       "2                     0              0           0            0   \n",
       "3                     0              0           0            0   \n",
       "4                     0              0           0            0   \n",
       "\n",
       "   qty_exclamation_url  qty_space_url  ...  qty_ip_resolved  qty_nameservers  \\\n",
       "0                    0              0  ...                1                2   \n",
       "1                    0              0  ...                1                2   \n",
       "2                    0              0  ...                1                2   \n",
       "3                    0              0  ...                1                2   \n",
       "4                    0              0  ...                1                2   \n",
       "\n",
       "   qty_mx_servers  ttl_hostname  tls_ssl_certificate  qty_redirects  \\\n",
       "0               0           892                    0              0   \n",
       "1               1          9540                    1              0   \n",
       "2               3           589                    1              0   \n",
       "3               0           292                    1              0   \n",
       "4               1          3597                    0              1   \n",
       "\n",
       "   url_google_index  domain_google_index  url_shortened  phishing  \n",
       "0                 0                    0              0         1  \n",
       "1                 0                    0              0         1  \n",
       "2                 0                    0              0         0  \n",
       "3                 0                    0              0         1  \n",
       "4                 0                    0              0         0  \n",
       "\n",
       "[5 rows x 92 columns]"
      ]
     },
     "execution_count": 3,
     "metadata": {},
     "output_type": "execute_result"
    }
   ],
   "source": [
    "df = pd.read_csv(r\"c:\\Users\\magni\\Documents\\Classes\\MIS581 Capstone\\data\\dataset_full_preprocessed.csv\")\n",
    "df.head()"
   ]
  },
  {
   "cell_type": "code",
   "execution_count": 4,
   "id": "b6b206a7-da3d-4ae3-885e-8afa6e95aa26",
   "metadata": {},
   "outputs": [
    {
     "data": {
      "text/plain": [
       "Index(['qty_dot_url', 'qty_hyphen_url', 'qty_underline_url', 'qty_slash_url',\n",
       "       'qty_questionmark_url', 'qty_equal_url', 'qty_at_url', 'qty_and_url',\n",
       "       'qty_exclamation_url', 'qty_space_url', 'qty_tilde_url',\n",
       "       'qty_comma_url', 'qty_plus_url', 'qty_asterisk_url', 'qty_hashtag_url',\n",
       "       'qty_dollar_url', 'qty_percent_url', 'qty_tld_url', 'length_url',\n",
       "       'email_in_url', 'qty_dot_domain', 'qty_hyphen_domain',\n",
       "       'qty_underline_domain', 'qty_at_domain', 'qty_vowels_domain',\n",
       "       'server_client_domain', 'domain_length', 'domain_in_ip',\n",
       "       'qty_dot_directory', 'qty_hyphen_directory', 'qty_underline_directory',\n",
       "       'qty_slash_directory', 'qty_equal_directory', 'qty_at_directory',\n",
       "       'qty_and_directory', 'qty_exclamation_directory', 'qty_space_directory',\n",
       "       'qty_tilde_directory', 'qty_comma_directory', 'qty_plus_directory',\n",
       "       'qty_asterisk_directory', 'qty_dollar_directory',\n",
       "       'qty_percent_directory', 'directory_length', 'qty_dot_file',\n",
       "       'qty_hyphen_file', 'qty_underline_file', 'qty_equal_file',\n",
       "       'qty_at_file', 'qty_and_file', 'qty_exclamation_file', 'qty_space_file',\n",
       "       'qty_tilde_file', 'qty_comma_file', 'qty_plus_file',\n",
       "       'qty_asterisk_file', 'qty_percent_file', 'file_length',\n",
       "       'qty_dot_params', 'qty_hyphen_params', 'qty_underline_params',\n",
       "       'qty_slash_params', 'qty_questionmark_params', 'qty_equal_params',\n",
       "       'qty_at_params', 'qty_and_params', 'qty_exclamation_params',\n",
       "       'qty_space_params', 'qty_tilde_params', 'qty_comma_params',\n",
       "       'qty_plus_params', 'qty_asterisk_params', 'qty_dollar_params',\n",
       "       'qty_percent_params', 'tld_present_params', 'qty_params',\n",
       "       'params_length', 'time_response', 'domain_spf', 'asn_ip',\n",
       "       'time_domain_activation', 'time_domain_expiration', 'qty_ip_resolved',\n",
       "       'qty_nameservers', 'qty_mx_servers', 'ttl_hostname',\n",
       "       'tls_ssl_certificate', 'qty_redirects', 'url_google_index',\n",
       "       'domain_google_index', 'url_shortened', 'phishing'],\n",
       "      dtype='object')"
      ]
     },
     "execution_count": 4,
     "metadata": {},
     "output_type": "execute_result"
    }
   ],
   "source": [
    "df.columns"
   ]
  },
  {
   "cell_type": "code",
   "execution_count": 5,
   "id": "ffb7d26d-2557-4c84-a296-28ab6e4c15e0",
   "metadata": {},
   "outputs": [
    {
     "data": {
      "text/plain": [
       "(88647, 92)"
      ]
     },
     "execution_count": 5,
     "metadata": {},
     "output_type": "execute_result"
    }
   ],
   "source": [
    "df.shape"
   ]
  },
  {
   "cell_type": "markdown",
   "id": "9ea1c67b-e026-4bcb-b971-0ca4eddd320f",
   "metadata": {},
   "source": [
    "# Split train/test"
   ]
  },
  {
   "cell_type": "code",
   "execution_count": 6,
   "id": "a50b06f7-1582-4ef1-8344-9a4898d63387",
   "metadata": {},
   "outputs": [],
   "source": [
    "X = df.iloc[:,:-1]\n",
    "y = df['phishing']"
   ]
  },
  {
   "cell_type": "code",
   "execution_count": 7,
   "id": "281f0ebf-e2c6-48dd-a01b-170e8252da70",
   "metadata": {},
   "outputs": [
    {
     "data": {
      "text/plain": [
       "Index(['qty_dot_url', 'qty_hyphen_url', 'qty_underline_url', 'qty_slash_url',\n",
       "       'qty_questionmark_url', 'qty_equal_url', 'qty_at_url', 'qty_and_url',\n",
       "       'qty_exclamation_url', 'qty_space_url', 'qty_tilde_url',\n",
       "       'qty_comma_url', 'qty_plus_url', 'qty_asterisk_url', 'qty_hashtag_url',\n",
       "       'qty_dollar_url', 'qty_percent_url', 'qty_tld_url', 'length_url',\n",
       "       'email_in_url', 'qty_dot_domain', 'qty_hyphen_domain',\n",
       "       'qty_underline_domain', 'qty_at_domain', 'qty_vowels_domain',\n",
       "       'server_client_domain', 'domain_length', 'domain_in_ip',\n",
       "       'qty_dot_directory', 'qty_hyphen_directory', 'qty_underline_directory',\n",
       "       'qty_slash_directory', 'qty_equal_directory', 'qty_at_directory',\n",
       "       'qty_and_directory', 'qty_exclamation_directory', 'qty_space_directory',\n",
       "       'qty_tilde_directory', 'qty_comma_directory', 'qty_plus_directory',\n",
       "       'qty_asterisk_directory', 'qty_dollar_directory',\n",
       "       'qty_percent_directory', 'directory_length', 'qty_dot_file',\n",
       "       'qty_hyphen_file', 'qty_underline_file', 'qty_equal_file',\n",
       "       'qty_at_file', 'qty_and_file', 'qty_exclamation_file', 'qty_space_file',\n",
       "       'qty_tilde_file', 'qty_comma_file', 'qty_plus_file',\n",
       "       'qty_asterisk_file', 'qty_percent_file', 'file_length',\n",
       "       'qty_dot_params', 'qty_hyphen_params', 'qty_underline_params',\n",
       "       'qty_slash_params', 'qty_questionmark_params', 'qty_equal_params',\n",
       "       'qty_at_params', 'qty_and_params', 'qty_exclamation_params',\n",
       "       'qty_space_params', 'qty_tilde_params', 'qty_comma_params',\n",
       "       'qty_plus_params', 'qty_asterisk_params', 'qty_dollar_params',\n",
       "       'qty_percent_params', 'tld_present_params', 'qty_params',\n",
       "       'params_length', 'time_response', 'domain_spf', 'asn_ip',\n",
       "       'time_domain_activation', 'time_domain_expiration', 'qty_ip_resolved',\n",
       "       'qty_nameservers', 'qty_mx_servers', 'ttl_hostname',\n",
       "       'tls_ssl_certificate', 'qty_redirects', 'url_google_index',\n",
       "       'domain_google_index', 'url_shortened'],\n",
       "      dtype='object')"
      ]
     },
     "execution_count": 7,
     "metadata": {},
     "output_type": "execute_result"
    }
   ],
   "source": [
    "X.columns"
   ]
  },
  {
   "cell_type": "code",
   "execution_count": 8,
   "id": "76028770-2e9f-4e28-9692-c4bed290c876",
   "metadata": {},
   "outputs": [],
   "source": [
    "X_train, X_test, y_train, y_test = train_test_split(X, y, test_size=0.2, random_state=42)"
   ]
  },
  {
   "cell_type": "markdown",
   "id": "a3ced4d9-9cb5-40a3-b636-aeff03bd8518",
   "metadata": {},
   "source": [
    "# Read in pretrained base classifier"
   ]
  },
  {
   "cell_type": "code",
   "execution_count": 9,
   "id": "f60dffb0-2c4e-4e27-b00f-2d7af1d9344f",
   "metadata": {},
   "outputs": [
    {
     "data": {
      "text/plain": [
       "RandomForestClassifier(n_estimators=10, random_state=0)"
      ]
     },
     "execution_count": 9,
     "metadata": {},
     "output_type": "execute_result"
    }
   ],
   "source": [
    "rf_clf_op = joblib.load(\"models/rf.joblib\")\n",
    "rf_clf_op"
   ]
  },
  {
   "cell_type": "code",
   "execution_count": 11,
   "id": "fbbaa177-4789-4132-b893-5035906a4759",
   "metadata": {},
   "outputs": [],
   "source": [
    "et_clf_op = joblib.load(\"models/et.joblib\")"
   ]
  },
  {
   "cell_type": "code",
   "execution_count": 13,
   "id": "fd79c162-9119-455e-9da0-42f01ea99150",
   "metadata": {},
   "outputs": [],
   "source": [
    "knn_clf_op = joblib.load(\"models/knn.joblib\")"
   ]
  },
  {
   "cell_type": "code",
   "execution_count": 15,
   "id": "45cda83c-d5b2-4307-a87d-6d688f741860",
   "metadata": {},
   "outputs": [],
   "source": [
    "svc_clf_op = joblib.load(\"models/svc_10k.joblib\")"
   ]
  },
  {
   "cell_type": "code",
   "execution_count": 17,
   "id": "cc9fdd69-dc88-4f10-a1a5-6b532fde4c86",
   "metadata": {},
   "outputs": [],
   "source": [
    "lr_clf_op = joblib.load(\"models/lr.joblib\")"
   ]
  },
  {
   "cell_type": "code",
   "execution_count": 19,
   "id": "b5123342-a3f6-45dd-8c1f-c45c179dd5f2",
   "metadata": {},
   "outputs": [],
   "source": [
    "adab_clf_op = joblib.load(\"models/abc.joblib\")"
   ]
  },
  {
   "cell_type": "code",
   "execution_count": 24,
   "id": "9033ba40-4162-4528-82ed-7e3eaa5c8a8b",
   "metadata": {},
   "outputs": [
    {
     "data": {
      "text/plain": [
       "StackingClassifier(estimators=[('rf',\n",
       "                                RandomForestClassifier(n_estimators=10,\n",
       "                                                       random_state=0)),\n",
       "                               ('knn', KNeighborsClassifier(n_neighbors=2)),\n",
       "                               ('xgb',\n",
       "                                XGBClassifier(base_score=0.5, booster='gbtree',\n",
       "                                              colsample_bylevel=1,\n",
       "                                              colsample_bynode=1,\n",
       "                                              colsample_bytree=1, gamma=0,\n",
       "                                              gpu_id=-1, importance_type='gain',\n",
       "                                              interaction_constraints='',\n",
       "                                              learning_rate=0.300000012,\n",
       "                                              max_delt...\n",
       "                                              num_parallel_tree=1,\n",
       "                                              random_state=0, reg_alpha=0,\n",
       "                                              reg_lambda=1, scale_pos_weight=1,\n",
       "                                              subsample=1, tree_method='exact',\n",
       "                                              validate_parameters=1,\n",
       "                                              verbosity=0)),\n",
       "                               ('lr',\n",
       "                                LogisticRegression(C=20000, random_state=0)),\n",
       "                               ('et',\n",
       "                                ExtraTreesClassifier(n_estimators=5,\n",
       "                                                     random_state=0)),\n",
       "                               ('ad',\n",
       "                                AdaBoostClassifier(n_estimators=100,\n",
       "                                                   random_state=0))],\n",
       "                   final_estimator=LogisticRegression(random_state=0))"
      ]
     },
     "execution_count": 24,
     "metadata": {},
     "output_type": "execute_result"
    }
   ],
   "source": [
    "sclf_op = joblib.load(\"models/sclf_default.joblib\")\n",
    "sclf_op"
   ]
  },
  {
   "cell_type": "markdown",
   "id": "51771a4b-31ac-41ae-bea0-adc86088bd71",
   "metadata": {},
   "source": [
    "# Cross Validation Scores"
   ]
  },
  {
   "cell_type": "code",
   "execution_count": 48,
   "id": "ef057482-bb2b-462d-9c9d-77ea6d45c085",
   "metadata": {},
   "outputs": [
    {
     "data": {
      "text/plain": [
       "dict_keys(['explained_variance', 'r2', 'max_error', 'neg_median_absolute_error', 'neg_mean_absolute_error', 'neg_mean_absolute_percentage_error', 'neg_mean_squared_error', 'neg_mean_squared_log_error', 'neg_root_mean_squared_error', 'neg_mean_poisson_deviance', 'neg_mean_gamma_deviance', 'accuracy', 'top_k_accuracy', 'roc_auc', 'roc_auc_ovr', 'roc_auc_ovo', 'roc_auc_ovr_weighted', 'roc_auc_ovo_weighted', 'balanced_accuracy', 'average_precision', 'neg_log_loss', 'neg_brier_score', 'adjusted_rand_score', 'rand_score', 'homogeneity_score', 'completeness_score', 'v_measure_score', 'mutual_info_score', 'adjusted_mutual_info_score', 'normalized_mutual_info_score', 'fowlkes_mallows_score', 'precision', 'precision_macro', 'precision_micro', 'precision_samples', 'precision_weighted', 'recall', 'recall_macro', 'recall_micro', 'recall_samples', 'recall_weighted', 'f1', 'f1_macro', 'f1_micro', 'f1_samples', 'f1_weighted', 'jaccard', 'jaccard_macro', 'jaccard_micro', 'jaccard_samples', 'jaccard_weighted'])"
      ]
     },
     "execution_count": 48,
     "metadata": {},
     "output_type": "execute_result"
    }
   ],
   "source": [
    "sklearn.metrics.SCORERS.keys()"
   ]
  },
  {
   "cell_type": "code",
   "execution_count": 25,
   "id": "111f6cde-99e4-4ea1-862a-a9be9ca11314",
   "metadata": {},
   "outputs": [
    {
     "data": {
      "text/plain": [
       "{'fit_time': array([0.25945234, 0.15179586, 0.15406489, 0.16420484, 0.16378164,\n",
       "        0.15579176, 0.15978742, 0.15978837, 0.15582228, 0.15975785]),\n",
       " 'score_time': array([0.05590844, 0.01600957, 0.01601005, 0.01526809, 0.01594925,\n",
       "        0.01997209, 0.01600695, 0.01594782, 0.01597738, 0.01600647]),\n",
       " 'test_accuracy': array([0.95375071, 0.96164693, 0.95769882, 0.96728708, 0.95375071,\n",
       "        0.95205866, 0.96108291, 0.95939086, 0.95262267, 0.96108291]),\n",
       " 'test_r2': array([0.79522579, 0.83018724, 0.8128515 , 0.85527182, 0.7953843 ,\n",
       "        0.78789836, 0.82782338, 0.82033744, 0.79039368, 0.82782338]),\n",
       " 'test_roc_auc': array([0.9870384 , 0.98784476, 0.98768528, 0.98919331, 0.98855857,\n",
       "        0.98663396, 0.98705407, 0.98566356, 0.98366154, 0.98803502]),\n",
       " 'test_precision': array([0.94156928, 0.94876033, 0.9408867 , 0.95261438, 0.94314381,\n",
       "        0.93989983, 0.94876033, 0.93973941, 0.92996743, 0.95630252]),\n",
       " 'test_recall': array([0.92307692, 0.93944354, 0.93627451, 0.95261438, 0.92156863,\n",
       "        0.91993464, 0.9379085 , 0.94281046, 0.93300654, 0.92973856]),\n",
       " 'test_f1': array([0.9322314 , 0.94407895, 0.93857494, 0.95261438, 0.9322314 ,\n",
       "        0.92981007, 0.9433032 , 0.94127243, 0.9314845 , 0.94283347])}"
      ]
     },
     "execution_count": 25,
     "metadata": {},
     "output_type": "execute_result"
    }
   ],
   "source": [
    "cv_results_rf = cross_validate(rf_clf_op, X_test, y_test, cv=10, scoring=('accuracy','r2','roc_auc','precision','recall','f1'))\n",
    "cv_results_rf"
   ]
  },
  {
   "cell_type": "code",
   "execution_count": 26,
   "id": "0215cc53-dbb3-41b3-ac75-6afb54c42fd7",
   "metadata": {},
   "outputs": [
    {
     "data": {
      "text/plain": [
       "{'fit_time': array([20.69032288, 20.67618275, 20.66428185, 20.48184371, 20.07361388,\n",
       "        19.87319183, 20.09349036, 20.68197417, 20.70291924, 21.0216713 ]),\n",
       " 'score_time': array([0.93734956, 0.93964505, 0.91222787, 0.89932632, 0.89204168,\n",
       "        0.88762522, 0.89145231, 0.92352891, 0.94845462, 0.89856577]),\n",
       " 'test_accuracy': array([0.95882685, 0.96446701, 0.96559504, 0.97292724, 0.95995488,\n",
       "        0.95600677, 0.96108291, 0.95995488, 0.95882685, 0.96390299]),\n",
       " 'test_r2': array([0.81770101, 0.84267348, 0.84778588, 0.88022496, 0.82283275,\n",
       "        0.80536556, 0.82782338, 0.82283275, 0.81784212, 0.84029994]),\n",
       " 'test_roc_auc': array([0.99159274, 0.99391393, 0.99266043, 0.99468426, 0.99382012,\n",
       "        0.98990334, 0.9930925 , 0.99122489, 0.98786684, 0.99426627]),\n",
       " 'test_precision': array([0.93527508, 0.9433657 , 0.9450727 , 0.95483871, 0.94417077,\n",
       "        0.94352159, 0.94290375, 0.94271686, 0.9312    , 0.9551495 ]),\n",
       " 'test_recall': array([0.94599018, 0.95417349, 0.95588235, 0.96732026, 0.93954248,\n",
       "        0.92810458, 0.94444444, 0.94117647, 0.95098039, 0.93954248]),\n",
       " 'test_f1': array([0.94060212, 0.94873881, 0.95044679, 0.96103896, 0.94185094,\n",
       "        0.93574959, 0.94367347, 0.94194603, 0.94098626, 0.94728171])}"
      ]
     },
     "execution_count": 26,
     "metadata": {},
     "output_type": "execute_result"
    }
   ],
   "source": [
    "cv_results_sclf = cross_validate(sclf_op, X_test, y_test, cv=10, scoring=('accuracy','r2','roc_auc','precision','recall','f1'))\n",
    "cv_results_sclf"
   ]
  },
  {
   "cell_type": "markdown",
   "id": "1b3fa131-a327-4e99-97ef-3ea40c813d06",
   "metadata": {},
   "source": [
    "# T-Test for score comparison"
   ]
  },
  {
   "cell_type": "code",
   "execution_count": 28,
   "id": "d98db74e-99c0-463f-9e8a-cda989b718cf",
   "metadata": {},
   "outputs": [],
   "source": [
    "from scipy.stats import ttest_rel"
   ]
  },
  {
   "cell_type": "code",
   "execution_count": 30,
   "id": "9f96ae17-f579-4896-94ab-e004d9189a9a",
   "metadata": {},
   "outputs": [
    {
     "name": "stdout",
     "output_type": "stream",
     "text": [
      "t-test -5.0765764209\n",
      "p-value 0.0003329567\n",
      "we reject null hypothesis\n"
     ]
    }
   ],
   "source": [
    "#H0: p1=p2\n",
    "#HA: p1<p2\n",
    "# Method paired ona-tailed t-test\n",
    "ttest, pval = ttest_rel(cv_results_rf['test_accuracy'], cv_results_sclf['test_accuracy'], alternative='less')\n",
    "print(\"t-test\", '{0:.10f}'.format(ttest))\n",
    "print(\"p-value\", '{0:.10f}'.format(pval))\n",
    "\n",
    "if pval < 0.05:\n",
    "    print(\"we reject null hypothesis\")\n",
    "else:\n",
    "    print(\"we accept null hypothesis\")"
   ]
  },
  {
   "cell_type": "code",
   "execution_count": null,
   "id": "ae13b63f-9f19-41db-b1bc-5edfa1cea5d4",
   "metadata": {},
   "outputs": [],
   "source": []
  }
 ],
 "metadata": {
  "kernelspec": {
   "display_name": "python399",
   "language": "python",
   "name": "python399"
  },
  "language_info": {
   "codemirror_mode": {
    "name": "ipython",
    "version": 3
   },
   "file_extension": ".py",
   "mimetype": "text/x-python",
   "name": "python",
   "nbconvert_exporter": "python",
   "pygments_lexer": "ipython3",
   "version": "3.9.9"
  }
 },
 "nbformat": 4,
 "nbformat_minor": 5
}
