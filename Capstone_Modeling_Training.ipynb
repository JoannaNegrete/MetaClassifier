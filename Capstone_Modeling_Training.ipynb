{
 "cells": [
  {
   "cell_type": "markdown",
   "id": "bb753a3a-55fb-4df2-ab58-7350fbbce31c",
   "metadata": {},
   "source": [
    "# Libraries"
   ]
  },
  {
   "cell_type": "code",
   "execution_count": 18,
   "id": "665c399b-1284-4fb7-bc6e-ebd60a30a7b4",
   "metadata": {},
   "outputs": [],
   "source": [
    "import math\n",
    "import joblib\n",
    "import numpy as np\n",
    "import pandas as pd\n",
    "import matplotlib.pyplot as plt\n",
    "%matplotlib inline\n",
    "\n",
    "from sklearn.model_selection import GridSearchCV\n",
    "from sklearn.metrics import accuracy_score, roc_auc_score, roc_curve, f1_score, precision_score, recall_score, mean_squared_error, r2_score\n",
    "from sklearn.model_selection import cross_val_score\n",
    "from sklearn.svm import SVC\n",
    "from sklearn.ensemble import ExtraTreesClassifier\n",
    "from sklearn.linear_model import RidgeClassifier\n",
    "from sklearn.ensemble import BaggingClassifier\n",
    "from sklearn.tree import DecisionTreeClassifier\n",
    "from sklearn.naive_bayes import GaussianNB\n",
    "from sklearn.ensemble import RandomForestClassifier, GradientBoostingClassifier, StackingClassifier\n",
    "from sklearn.linear_model import LogisticRegression\n",
    "from sklearn.neighbors import KNeighborsClassifier\n",
    "from sklearn.model_selection import train_test_split\n",
    "from sklearn.ensemble import AdaBoostClassifier, GradientBoostingClassifier\n",
    "from mlxtend.classifier import EnsembleVoteClassifier\n",
    "from xgboost import XGBClassifier\n",
    "from sklearn.model_selection import cross_validate\n",
    "\n",
    "from mlxtend.plotting import plot_decision_regions\n",
    "import matplotlib.gridspec as gridspec\n",
    "import itertools"
   ]
  },
  {
   "cell_type": "code",
   "execution_count": 2,
   "id": "c71e3ae3-ec45-4287-848a-75e1741e231e",
   "metadata": {},
   "outputs": [],
   "source": [
    "import warnings\n",
    "warnings.filterwarnings('ignore')"
   ]
  },
  {
   "cell_type": "markdown",
   "id": "b8cc1596-1f23-42e6-b910-f364df4a2ebb",
   "metadata": {},
   "source": [
    "# Read in data"
   ]
  },
  {
   "cell_type": "code",
   "execution_count": 3,
   "id": "266d08fa-b05c-4dc2-9dfa-ca45047e0d56",
   "metadata": {},
   "outputs": [
    {
     "data": {
      "text/html": [
       "<div>\n",
       "<style scoped>\n",
       "    .dataframe tbody tr th:only-of-type {\n",
       "        vertical-align: middle;\n",
       "    }\n",
       "\n",
       "    .dataframe tbody tr th {\n",
       "        vertical-align: top;\n",
       "    }\n",
       "\n",
       "    .dataframe thead th {\n",
       "        text-align: right;\n",
       "    }\n",
       "</style>\n",
       "<table border=\"1\" class=\"dataframe\">\n",
       "  <thead>\n",
       "    <tr style=\"text-align: right;\">\n",
       "      <th></th>\n",
       "      <th>qty_dot_url</th>\n",
       "      <th>qty_hyphen_url</th>\n",
       "      <th>qty_underline_url</th>\n",
       "      <th>qty_slash_url</th>\n",
       "      <th>qty_questionmark_url</th>\n",
       "      <th>qty_equal_url</th>\n",
       "      <th>qty_at_url</th>\n",
       "      <th>qty_and_url</th>\n",
       "      <th>qty_exclamation_url</th>\n",
       "      <th>qty_space_url</th>\n",
       "      <th>...</th>\n",
       "      <th>qty_ip_resolved</th>\n",
       "      <th>qty_nameservers</th>\n",
       "      <th>qty_mx_servers</th>\n",
       "      <th>ttl_hostname</th>\n",
       "      <th>tls_ssl_certificate</th>\n",
       "      <th>qty_redirects</th>\n",
       "      <th>url_google_index</th>\n",
       "      <th>domain_google_index</th>\n",
       "      <th>url_shortened</th>\n",
       "      <th>phishing</th>\n",
       "    </tr>\n",
       "  </thead>\n",
       "  <tbody>\n",
       "    <tr>\n",
       "      <th>0</th>\n",
       "      <td>3</td>\n",
       "      <td>0</td>\n",
       "      <td>0</td>\n",
       "      <td>1</td>\n",
       "      <td>0</td>\n",
       "      <td>0</td>\n",
       "      <td>0</td>\n",
       "      <td>0</td>\n",
       "      <td>0</td>\n",
       "      <td>0</td>\n",
       "      <td>...</td>\n",
       "      <td>1</td>\n",
       "      <td>2</td>\n",
       "      <td>0</td>\n",
       "      <td>892</td>\n",
       "      <td>0</td>\n",
       "      <td>0</td>\n",
       "      <td>0</td>\n",
       "      <td>0</td>\n",
       "      <td>0</td>\n",
       "      <td>1</td>\n",
       "    </tr>\n",
       "    <tr>\n",
       "      <th>1</th>\n",
       "      <td>5</td>\n",
       "      <td>0</td>\n",
       "      <td>1</td>\n",
       "      <td>3</td>\n",
       "      <td>0</td>\n",
       "      <td>3</td>\n",
       "      <td>0</td>\n",
       "      <td>2</td>\n",
       "      <td>0</td>\n",
       "      <td>0</td>\n",
       "      <td>...</td>\n",
       "      <td>1</td>\n",
       "      <td>2</td>\n",
       "      <td>1</td>\n",
       "      <td>9540</td>\n",
       "      <td>1</td>\n",
       "      <td>0</td>\n",
       "      <td>0</td>\n",
       "      <td>0</td>\n",
       "      <td>0</td>\n",
       "      <td>1</td>\n",
       "    </tr>\n",
       "    <tr>\n",
       "      <th>2</th>\n",
       "      <td>2</td>\n",
       "      <td>0</td>\n",
       "      <td>0</td>\n",
       "      <td>1</td>\n",
       "      <td>0</td>\n",
       "      <td>0</td>\n",
       "      <td>0</td>\n",
       "      <td>0</td>\n",
       "      <td>0</td>\n",
       "      <td>0</td>\n",
       "      <td>...</td>\n",
       "      <td>1</td>\n",
       "      <td>2</td>\n",
       "      <td>3</td>\n",
       "      <td>589</td>\n",
       "      <td>1</td>\n",
       "      <td>0</td>\n",
       "      <td>0</td>\n",
       "      <td>0</td>\n",
       "      <td>0</td>\n",
       "      <td>0</td>\n",
       "    </tr>\n",
       "    <tr>\n",
       "      <th>3</th>\n",
       "      <td>4</td>\n",
       "      <td>0</td>\n",
       "      <td>2</td>\n",
       "      <td>5</td>\n",
       "      <td>0</td>\n",
       "      <td>0</td>\n",
       "      <td>0</td>\n",
       "      <td>0</td>\n",
       "      <td>0</td>\n",
       "      <td>0</td>\n",
       "      <td>...</td>\n",
       "      <td>1</td>\n",
       "      <td>2</td>\n",
       "      <td>0</td>\n",
       "      <td>292</td>\n",
       "      <td>1</td>\n",
       "      <td>0</td>\n",
       "      <td>0</td>\n",
       "      <td>0</td>\n",
       "      <td>0</td>\n",
       "      <td>1</td>\n",
       "    </tr>\n",
       "    <tr>\n",
       "      <th>4</th>\n",
       "      <td>2</td>\n",
       "      <td>0</td>\n",
       "      <td>0</td>\n",
       "      <td>0</td>\n",
       "      <td>0</td>\n",
       "      <td>0</td>\n",
       "      <td>0</td>\n",
       "      <td>0</td>\n",
       "      <td>0</td>\n",
       "      <td>0</td>\n",
       "      <td>...</td>\n",
       "      <td>1</td>\n",
       "      <td>2</td>\n",
       "      <td>1</td>\n",
       "      <td>3597</td>\n",
       "      <td>0</td>\n",
       "      <td>1</td>\n",
       "      <td>0</td>\n",
       "      <td>0</td>\n",
       "      <td>0</td>\n",
       "      <td>0</td>\n",
       "    </tr>\n",
       "  </tbody>\n",
       "</table>\n",
       "<p>5 rows × 92 columns</p>\n",
       "</div>"
      ],
      "text/plain": [
       "   qty_dot_url  qty_hyphen_url  qty_underline_url  qty_slash_url  \\\n",
       "0            3               0                  0              1   \n",
       "1            5               0                  1              3   \n",
       "2            2               0                  0              1   \n",
       "3            4               0                  2              5   \n",
       "4            2               0                  0              0   \n",
       "\n",
       "   qty_questionmark_url  qty_equal_url  qty_at_url  qty_and_url  \\\n",
       "0                     0              0           0            0   \n",
       "1                     0              3           0            2   \n",
       "2                     0              0           0            0   \n",
       "3                     0              0           0            0   \n",
       "4                     0              0           0            0   \n",
       "\n",
       "   qty_exclamation_url  qty_space_url  ...  qty_ip_resolved  qty_nameservers  \\\n",
       "0                    0              0  ...                1                2   \n",
       "1                    0              0  ...                1                2   \n",
       "2                    0              0  ...                1                2   \n",
       "3                    0              0  ...                1                2   \n",
       "4                    0              0  ...                1                2   \n",
       "\n",
       "   qty_mx_servers  ttl_hostname  tls_ssl_certificate  qty_redirects  \\\n",
       "0               0           892                    0              0   \n",
       "1               1          9540                    1              0   \n",
       "2               3           589                    1              0   \n",
       "3               0           292                    1              0   \n",
       "4               1          3597                    0              1   \n",
       "\n",
       "   url_google_index  domain_google_index  url_shortened  phishing  \n",
       "0                 0                    0              0         1  \n",
       "1                 0                    0              0         1  \n",
       "2                 0                    0              0         0  \n",
       "3                 0                    0              0         1  \n",
       "4                 0                    0              0         0  \n",
       "\n",
       "[5 rows x 92 columns]"
      ]
     },
     "execution_count": 3,
     "metadata": {},
     "output_type": "execute_result"
    }
   ],
   "source": [
    "df = pd.read_csv(r\"c:\\Users\\magni\\Documents\\Classes\\MIS581 Capstone\\data\\dataset_full_preprocessed.csv\")\n",
    "df.head()"
   ]
  },
  {
   "cell_type": "code",
   "execution_count": 4,
   "id": "b6b206a7-da3d-4ae3-885e-8afa6e95aa26",
   "metadata": {},
   "outputs": [
    {
     "data": {
      "text/plain": [
       "Index(['qty_dot_url', 'qty_hyphen_url', 'qty_underline_url', 'qty_slash_url',\n",
       "       'qty_questionmark_url', 'qty_equal_url', 'qty_at_url', 'qty_and_url',\n",
       "       'qty_exclamation_url', 'qty_space_url', 'qty_tilde_url',\n",
       "       'qty_comma_url', 'qty_plus_url', 'qty_asterisk_url', 'qty_hashtag_url',\n",
       "       'qty_dollar_url', 'qty_percent_url', 'qty_tld_url', 'length_url',\n",
       "       'email_in_url', 'qty_dot_domain', 'qty_hyphen_domain',\n",
       "       'qty_underline_domain', 'qty_at_domain', 'qty_vowels_domain',\n",
       "       'server_client_domain', 'domain_length', 'domain_in_ip',\n",
       "       'qty_dot_directory', 'qty_hyphen_directory', 'qty_underline_directory',\n",
       "       'qty_slash_directory', 'qty_equal_directory', 'qty_at_directory',\n",
       "       'qty_and_directory', 'qty_exclamation_directory', 'qty_space_directory',\n",
       "       'qty_tilde_directory', 'qty_comma_directory', 'qty_plus_directory',\n",
       "       'qty_asterisk_directory', 'qty_dollar_directory',\n",
       "       'qty_percent_directory', 'directory_length', 'qty_dot_file',\n",
       "       'qty_hyphen_file', 'qty_underline_file', 'qty_equal_file',\n",
       "       'qty_at_file', 'qty_and_file', 'qty_exclamation_file', 'qty_space_file',\n",
       "       'qty_tilde_file', 'qty_comma_file', 'qty_plus_file',\n",
       "       'qty_asterisk_file', 'qty_percent_file', 'file_length',\n",
       "       'qty_dot_params', 'qty_hyphen_params', 'qty_underline_params',\n",
       "       'qty_slash_params', 'qty_questionmark_params', 'qty_equal_params',\n",
       "       'qty_at_params', 'qty_and_params', 'qty_exclamation_params',\n",
       "       'qty_space_params', 'qty_tilde_params', 'qty_comma_params',\n",
       "       'qty_plus_params', 'qty_asterisk_params', 'qty_dollar_params',\n",
       "       'qty_percent_params', 'tld_present_params', 'qty_params',\n",
       "       'params_length', 'time_response', 'domain_spf', 'asn_ip',\n",
       "       'time_domain_activation', 'time_domain_expiration', 'qty_ip_resolved',\n",
       "       'qty_nameservers', 'qty_mx_servers', 'ttl_hostname',\n",
       "       'tls_ssl_certificate', 'qty_redirects', 'url_google_index',\n",
       "       'domain_google_index', 'url_shortened', 'phishing'],\n",
       "      dtype='object')"
      ]
     },
     "execution_count": 4,
     "metadata": {},
     "output_type": "execute_result"
    }
   ],
   "source": [
    "df.columns"
   ]
  },
  {
   "cell_type": "code",
   "execution_count": 6,
   "id": "ffb7d26d-2557-4c84-a296-28ab6e4c15e0",
   "metadata": {},
   "outputs": [
    {
     "data": {
      "text/plain": [
       "(88647, 92)"
      ]
     },
     "execution_count": 6,
     "metadata": {},
     "output_type": "execute_result"
    }
   ],
   "source": [
    "df.shape"
   ]
  },
  {
   "cell_type": "markdown",
   "id": "9ea1c67b-e026-4bcb-b971-0ca4eddd320f",
   "metadata": {},
   "source": [
    "# Split train/test"
   ]
  },
  {
   "cell_type": "code",
   "execution_count": 7,
   "id": "a50b06f7-1582-4ef1-8344-9a4898d63387",
   "metadata": {},
   "outputs": [],
   "source": [
    "X = df.iloc[:,:-1]\n",
    "y = df['phishing']"
   ]
  },
  {
   "cell_type": "code",
   "execution_count": 8,
   "id": "281f0ebf-e2c6-48dd-a01b-170e8252da70",
   "metadata": {},
   "outputs": [
    {
     "data": {
      "text/plain": [
       "Index(['qty_dot_url', 'qty_hyphen_url', 'qty_underline_url', 'qty_slash_url',\n",
       "       'qty_questionmark_url', 'qty_equal_url', 'qty_at_url', 'qty_and_url',\n",
       "       'qty_exclamation_url', 'qty_space_url', 'qty_tilde_url',\n",
       "       'qty_comma_url', 'qty_plus_url', 'qty_asterisk_url', 'qty_hashtag_url',\n",
       "       'qty_dollar_url', 'qty_percent_url', 'qty_tld_url', 'length_url',\n",
       "       'email_in_url', 'qty_dot_domain', 'qty_hyphen_domain',\n",
       "       'qty_underline_domain', 'qty_at_domain', 'qty_vowels_domain',\n",
       "       'server_client_domain', 'domain_length', 'domain_in_ip',\n",
       "       'qty_dot_directory', 'qty_hyphen_directory', 'qty_underline_directory',\n",
       "       'qty_slash_directory', 'qty_equal_directory', 'qty_at_directory',\n",
       "       'qty_and_directory', 'qty_exclamation_directory', 'qty_space_directory',\n",
       "       'qty_tilde_directory', 'qty_comma_directory', 'qty_plus_directory',\n",
       "       'qty_asterisk_directory', 'qty_dollar_directory',\n",
       "       'qty_percent_directory', 'directory_length', 'qty_dot_file',\n",
       "       'qty_hyphen_file', 'qty_underline_file', 'qty_equal_file',\n",
       "       'qty_at_file', 'qty_and_file', 'qty_exclamation_file', 'qty_space_file',\n",
       "       'qty_tilde_file', 'qty_comma_file', 'qty_plus_file',\n",
       "       'qty_asterisk_file', 'qty_percent_file', 'file_length',\n",
       "       'qty_dot_params', 'qty_hyphen_params', 'qty_underline_params',\n",
       "       'qty_slash_params', 'qty_questionmark_params', 'qty_equal_params',\n",
       "       'qty_at_params', 'qty_and_params', 'qty_exclamation_params',\n",
       "       'qty_space_params', 'qty_tilde_params', 'qty_comma_params',\n",
       "       'qty_plus_params', 'qty_asterisk_params', 'qty_dollar_params',\n",
       "       'qty_percent_params', 'tld_present_params', 'qty_params',\n",
       "       'params_length', 'time_response', 'domain_spf', 'asn_ip',\n",
       "       'time_domain_activation', 'time_domain_expiration', 'qty_ip_resolved',\n",
       "       'qty_nameservers', 'qty_mx_servers', 'ttl_hostname',\n",
       "       'tls_ssl_certificate', 'qty_redirects', 'url_google_index',\n",
       "       'domain_google_index', 'url_shortened'],\n",
       "      dtype='object')"
      ]
     },
     "execution_count": 8,
     "metadata": {},
     "output_type": "execute_result"
    }
   ],
   "source": [
    "X.columns"
   ]
  },
  {
   "cell_type": "code",
   "execution_count": 9,
   "id": "76028770-2e9f-4e28-9692-c4bed290c876",
   "metadata": {},
   "outputs": [],
   "source": [
    "X_train, X_test, y_train, y_test = train_test_split(X, y, test_size=0.2, random_state=42)"
   ]
  },
  {
   "cell_type": "markdown",
   "id": "2c1e91aa-e279-45d7-b591-bd4ab6c25feb",
   "metadata": {},
   "source": [
    "# Base classifiers"
   ]
  },
  {
   "cell_type": "code",
   "execution_count": null,
   "id": "15a61feb-a976-4b80-8f91-48a29300248b",
   "metadata": {},
   "outputs": [],
   "source": [
    "RANDOM_SEED = 0"
   ]
  },
  {
   "cell_type": "markdown",
   "id": "09ceb68c-d4c1-4ed6-a056-04d0e7e1a5ef",
   "metadata": {},
   "source": [
    "## Random Forest"
   ]
  },
  {
   "cell_type": "code",
   "execution_count": 38,
   "id": "2c7d2a63-f821-413b-aafc-a1e4289cab14",
   "metadata": {},
   "outputs": [
    {
     "data": {
      "text/plain": [
       "['models/rf.joblib']"
      ]
     },
     "execution_count": 38,
     "metadata": {},
     "output_type": "execute_result"
    }
   ],
   "source": [
    "rf_clf = RandomForestClassifier(n_estimators=10, random_state=RANDOM_SEED)\n",
    "rf_clf.fit(X_train, y_train)\n",
    "joblib.dump(rf_clf, \"models/rf.joblib\")"
   ]
  },
  {
   "cell_type": "markdown",
   "id": "10007ae1-c08e-41f0-8964-14c2314cb444",
   "metadata": {},
   "source": [
    "## ExtraTreesClassifier"
   ]
  },
  {
   "cell_type": "code",
   "execution_count": 39,
   "id": "8a934a57-41a6-4d10-9bec-9f8a83e90886",
   "metadata": {},
   "outputs": [
    {
     "data": {
      "text/plain": [
       "['models/et.joblib']"
      ]
     },
     "execution_count": 39,
     "metadata": {},
     "output_type": "execute_result"
    }
   ],
   "source": [
    "et_clf = ExtraTreesClassifier(n_estimators=5, random_state=RANDOM_SEED)\n",
    "et_clf.fit(X_train, y_train)\n",
    "joblib.dump(et_clf, \"models/et.joblib\")"
   ]
  },
  {
   "cell_type": "markdown",
   "id": "d2e94e0f-b7cc-4ef4-9a8c-99f60ef25339",
   "metadata": {},
   "source": [
    "## KNeighborsClassifier"
   ]
  },
  {
   "cell_type": "code",
   "execution_count": 40,
   "id": "0dadbc7f-3ee8-41d2-a975-8f003d619724",
   "metadata": {},
   "outputs": [
    {
     "data": {
      "text/plain": [
       "['models/knn.joblib']"
      ]
     },
     "execution_count": 40,
     "metadata": {},
     "output_type": "execute_result"
    }
   ],
   "source": [
    "knn_clf = KNeighborsClassifier(n_neighbors=2)\n",
    "knn_clf.fit(X_train, y_train)\n",
    "joblib.dump(knn_clf, \"models/knn.joblib\")"
   ]
  },
  {
   "cell_type": "markdown",
   "id": "e459fe99-7879-44b3-b894-33b8467e5d08",
   "metadata": {},
   "source": [
    "## XGBClassifier"
   ]
  },
  {
   "cell_type": "code",
   "execution_count": 41,
   "id": "41df744b-30d1-4f53-aac1-9f3e1177354f",
   "metadata": {},
   "outputs": [
    {
     "data": {
      "text/plain": [
       "['models/xgb.joblib']"
      ]
     },
     "execution_count": 41,
     "metadata": {},
     "output_type": "execute_result"
    }
   ],
   "source": [
    "xgb_clf = XGBClassifier(n_estimators =10, random_state=RANDOM_SEED, verbosity=0)\n",
    "xgb_clf.fit(X_train, y_train)\n",
    "joblib.dump(xgb_clf, \"models/xgb.joblib\")"
   ]
  },
  {
   "cell_type": "markdown",
   "id": "216ab5c2-037c-4044-8d0c-187c34d24013",
   "metadata": {},
   "source": [
    "## LogisticRegression"
   ]
  },
  {
   "cell_type": "code",
   "execution_count": 42,
   "id": "49261685-7215-4191-826b-7bd7219c97c8",
   "metadata": {},
   "outputs": [
    {
     "data": {
      "text/plain": [
       "['models/lr.joblib']"
      ]
     },
     "execution_count": 42,
     "metadata": {},
     "output_type": "execute_result"
    }
   ],
   "source": [
    "lr_clf = LogisticRegression(C=20000, penalty='l2', random_state=RANDOM_SEED)\n",
    "lr_clf.fit(X_train, y_train)\n",
    "joblib.dump(lr_clf, \"models/lr.joblib\")"
   ]
  },
  {
   "cell_type": "markdown",
   "id": "c1256cf6-1a78-4f52-b1cc-9cc347c8aed8",
   "metadata": {},
   "source": [
    "## AdaBoostClassifier"
   ]
  },
  {
   "cell_type": "code",
   "execution_count": 43,
   "id": "577e1d25-7324-4f2b-842d-8e85362dd808",
   "metadata": {},
   "outputs": [
    {
     "data": {
      "text/plain": [
       "['models/abc.joblib']"
      ]
     },
     "execution_count": 43,
     "metadata": {},
     "output_type": "execute_result"
    }
   ],
   "source": [
    "adab_clf = AdaBoostClassifier(n_estimators=100, random_state=RANDOM_SEED)\n",
    "adab_clf.fit(X_train, y_train)\n",
    "joblib.dump(adab_clf, \"models/abc.joblib\")"
   ]
  },
  {
   "cell_type": "markdown",
   "id": "661d894c-a4b0-4b04-8083-384f2378f68f",
   "metadata": {},
   "source": [
    "# MetaClassifier"
   ]
  },
  {
   "cell_type": "code",
   "execution_count": 33,
   "id": "185ba4f3-f391-4ff6-8c0f-20b254e45dc6",
   "metadata": {},
   "outputs": [
    {
     "name": "stdout",
     "output_type": "stream",
     "text": [
      "Start Training\n",
      "Finished Training\n",
      "Accuracy: 0.9560 (+/- 0.0029) [RandomForestClassifier]\n",
      "Accuracy: 0.8260 (+/- 0.0042) [KNeighborsClassifier]\n",
      "Accuracy: 0.9538 (+/- 0.0023) [XGBClassifier]\n",
      "Accuracy: 0.8866 (+/- 0.0136) [LogisticRegression]\n",
      "Accuracy: 0.9506 (+/- 0.0025) [ExtraTreesClassifier]\n",
      "Accuracy: 0.9445 (+/- 0.0037) [AdaBoostClassifier]\n",
      "Accuracy: 0.9608 (+/- 0.0035) [StackingClassifier]\n"
     ]
    }
   ],
   "source": [
    "# use probabilities for the meta-model\n",
    "\n",
    "lr = LogisticRegression(random_state=RANDOM_SEED) # meta classifier\n",
    "\n",
    "sclf_cv = StackingClassifier(estimators=[('rf', rf_clf), ('knn', knn_clf), ('xgb', xgb_clf), ('lr', lr_clf),\n",
    "                                      ('et', et_clf), ('ad', adab_clf)], stack_method='auto', final_estimator=lr)\n",
    "\n",
    "classifier_array = [rf_clf, knn_clf, xgb_clf, lr_clf, et_clf, adab_clf, sclf_cv]\n",
    "labels_classifiers = [clf.__class__.__name__ for clf in classifier_array]\n",
    "\n",
    "acc_list = []\n",
    "var_list = []\n",
    "\n",
    "for clf, label in zip(classifier_array, labels_classifiers):\n",
    "    #cv_scores = cross_val_score(clf, X, y, cv=3, scoring='accuracy')\n",
    "    clf = clf.fit(X_train, y_train)\n",
    "    cv_scores = cross_val_score(clf, X_test, y_test, cv=5, scoring='accuracy')\n",
    "    acc_list.append(np.round(cv_scores.mean(),4))\n",
    "    var_list.append(np.round(cv_scores.std(),4))\n",
    "    #print(\"Accuracy: %0.4f (+/- %0.4f) [%s]\" % (cv_scores.mean(), cv_scores.std(), label))\n",
    "    print(\"Accuracy: %0.4f (+/- %0.4f) [%s]\" % (cv_scores.mean(), cv_scores.std(), label))"
   ]
  },
  {
   "cell_type": "code",
   "execution_count": 37,
   "id": "6ffa0e74-27ca-4671-aa6f-b64873a4542a",
   "metadata": {},
   "outputs": [
    {
     "data": {
      "text/plain": [
       "['models/sclf_default.joblib']"
      ]
     },
     "execution_count": 37,
     "metadata": {},
     "output_type": "execute_result"
    }
   ],
   "source": [
    "joblib.dump(sclf_cv, \"models/sclf_default.joblib\")"
   ]
  },
  {
   "cell_type": "code",
   "execution_count": null,
   "id": "0e928ee6-1a9b-45dc-ba17-6f1e7948e037",
   "metadata": {},
   "outputs": [],
   "source": []
  },
  {
   "cell_type": "code",
   "execution_count": null,
   "id": "5c59d088-ceb8-4305-a3e7-cf355fa36a95",
   "metadata": {},
   "outputs": [],
   "source": []
  }
 ],
 "metadata": {
  "kernelspec": {
   "display_name": "python399",
   "language": "python",
   "name": "python399"
  },
  "language_info": {
   "codemirror_mode": {
    "name": "ipython",
    "version": 3
   },
   "file_extension": ".py",
   "mimetype": "text/x-python",
   "name": "python",
   "nbconvert_exporter": "python",
   "pygments_lexer": "ipython3",
   "version": "3.9.9"
  },
  "toc-autonumbering": true,
  "toc-showcode": false
 },
 "nbformat": 4,
 "nbformat_minor": 5
}
